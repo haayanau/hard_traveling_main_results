{
 "cells": [
  {
   "cell_type": "markdown",
   "metadata": {},
   "source": [
    "# Replication notebook for \"Hard traveling: unemployment and road infrastructure in the shadow of political conflict\" (Abrahams, 2021)\n",
    "\n",
    "https://www.cambridge.org/core/journals/political-science-research-and-methods/article/abs/hard-traveling-unemployment-and-road-infrastructure-in-the-shadow-of-political-conflict/135F8A50F613DA3C9C4CB9335F0BFCF7#article"
   ]
  },
  {
   "cell_type": "code",
   "execution_count": 3,
   "metadata": {},
   "outputs": [],
   "source": [
    "import os\n",
    "import pandas as pd\n",
    "from linearmodels import IV2SLS\n",
    "from collections import OrderedDict\n",
    "from linearmodels.iv.results import compare"
   ]
  },
  {
   "cell_type": "code",
   "execution_count": 4,
   "metadata": {},
   "outputs": [],
   "source": [
    "my_data = f\"hard_traveling_dataset.dta\""
   ]
  },
  {
   "cell_type": "code",
   "execution_count": 5,
   "metadata": {},
   "outputs": [],
   "source": [
    "df = pd.read_stata(my_data)"
   ]
  },
  {
   "cell_type": "markdown",
   "metadata": {},
   "source": [
    "## Rename columns to match variable names "
   ]
  },
  {
   "cell_type": "code",
   "execution_count": 6,
   "metadata": {},
   "outputs": [],
   "source": [
    "df.rename(columns={'oe_bright_30': 'obstruction',\n",
    "'oe_lf_1_bright30': 'protection', \n",
    "'iv_bright_30': 'iv_obstruction',\n",
    "'iv_lf_1_bright30': 'iv_protection'}, inplace=True)"
   ]
  },
  {
   "cell_type": "markdown",
   "metadata": {},
   "source": [
    "## Normalize treatment and instrumental variables"
   ]
  },
  {
   "cell_type": "code",
   "execution_count": 7,
   "metadata": {},
   "outputs": [],
   "source": [
    "for var in ['obstruction', 'protection', 'iv_obstruction', 'iv_protection']:\n",
    "    df[var] = df[var]/df[var].mean()"
   ]
  },
  {
   "cell_type": "markdown",
   "metadata": {},
   "source": [
    "## Add dummy variables"
   ]
  },
  {
   "cell_type": "code",
   "execution_count": 8,
   "metadata": {},
   "outputs": [],
   "source": [
    "governorate_dummies = [f\"g_{i}\" for i in range(0, 11)]\n",
    "checkpoint_dummies = [f\"checkpoint_{i}\" for i in range(1, 11)]\n",
    "partial_checkpoint_dummies = [f\"partialcheckpoint_{i}\" for i in range(1, 11)]\n",
    "roadgate_dummies = [f\"roadgate_{i}\" for i in range(1, 11)]\n",
    "greenlinecheckpoint_dummies = [f\"greenlinecheckpoint_{i}\" for i in range(1, 11)] \n",
    "earthmound_dummies = [f\"earthmound_{i}\" for i in range(1, 11)]\n",
    "settle_dummies = [f\"settle_in_{i}km\" for i in range(1000, 11000, 1000)]\n",
    "all_dummies = governorate_dummies + checkpoint_dummies + partial_checkpoint_dummies + roadgate_dummies + greenlinecheckpoint_dummies + earthmound_dummies + settle_dummies"
   ]
  },
  {
   "cell_type": "markdown",
   "metadata": {},
   "source": [
    "## OLS (endogenous regression)"
   ]
  },
  {
   "cell_type": "code",
   "execution_count": 9,
   "metadata": {},
   "outputs": [],
   "source": [
    "def run_ols(dependent, exog, weight):\n",
    "    X = df[exog] # define independent variables\n",
    "    y = df[dependent] # define dependent variable\n",
    "    weight = df[weight]\n",
    "    model = IV2SLS(y, X, endog=None, instruments=None, weights=weight)\n",
    "    results = model.fit()\n",
    "    # print(results.summary)\n",
    "    return results\n",
    "\n",
    "result_ols = run_ols('chng_employment', \n",
    "                     ['obstruction', 'protection']+ all_dummies, \n",
    "                     'lf_1_2007'\n",
    "                    )"
   ]
  },
  {
   "cell_type": "markdown",
   "metadata": {},
   "source": [
    "## 2SLS regression "
   ]
  },
  {
   "cell_type": "code",
   "execution_count": 10,
   "metadata": {},
   "outputs": [],
   "source": [
    "def run_twosls(dependent, exog, endog, instrument, weight):\n",
    "    X = df[exog] # define controls\n",
    "    y = df[dependent] # define dependent variable\n",
    "    endog = df[endog] # define endogenous regressors/independent variables\n",
    "    instrument = df[instrument] # define instrumental variables \n",
    "    weight = df[weight] # set variable to weight by \n",
    "    model = IV2SLS(y, X, endog, instruments=instrument, weights=weight)\n",
    "    results = model.fit()\n",
    "    # print(results.summary)\n",
    "    return results\n",
    "\n",
    "result_twosls = run_twosls('chng_employment', \n",
    "                           all_dummies, \n",
    "                           ['obstruction', 'protection'], \n",
    "                           ['iv_obstruction', 'iv_protection'], \n",
    "                           'lf_1_2007'\n",
    "                          )"
   ]
  },
  {
   "cell_type": "markdown",
   "metadata": {},
   "source": [
    "## Clustered 2SLS regression"
   ]
  },
  {
   "cell_type": "code",
   "execution_count": 14,
   "metadata": {},
   "outputs": [],
   "source": [
    "def run_twosls_cluster(dependent, exog, endog, instrument, weight, cluster):\n",
    "    X = df[exog] # define controls\n",
    "    y = df[dependent] # define dependent variable\n",
    "    endog = df[endog] # define endogenous regressors/independent variables\n",
    "    instrument = df[instrument] # define instrumental variables \n",
    "    weight = df[weight] # weight factor\n",
    "    cluster = df[cluster]\n",
    "    model = IV2SLS(y, X, endog, instruments=instrument, weights=weight)\n",
    "    results = model.fit(cov_type=\"clustered\", clusters=cluster)\n",
    "    # print(results.summary)\n",
    "    return results\n",
    "\n",
    "result_twosls_cluster = run_twosls_cluster('chng_employment', \n",
    "                                            all_dummies, \n",
    "                                            ['obstruction', 'protection'], \n",
    "                                            ['iv_obstruction', 'iv_protection'], \n",
    "                                            'lf_1_2007',\n",
    "                                            'pcbs_pov_cluster'\n",
    "                                           )\n",
    "        "
   ]
  },
  {
   "cell_type": "markdown",
   "metadata": {},
   "source": [
    "## Results table comparing OLS to 2SLS to clustered 2SLS"
   ]
  },
  {
   "cell_type": "code",
   "execution_count": 16,
   "metadata": {
    "scrolled": false
   },
   "outputs": [
    {
     "name": "stdout",
     "output_type": "stream",
     "text": [
      "                                   Model Comparison                                   \n",
      "======================================================================================\n",
      "                                           OLS                2SLS      clustered_2SLS\n",
      "--------------------------------------------------------------------------------------\n",
      "Dep. Variable                  chng_employment     chng_employment     chng_employment\n",
      "Estimator                                  OLS             IV-2SLS             IV-2SLS\n",
      "No. Observations                           480                 480                 480\n",
      "Cov. Est.                               robust              robust           clustered\n",
      "R-squared                               0.3474              0.3355              0.3355\n",
      "Adj. R-squared                          0.2319              0.2180              0.2180\n",
      "F-statistic                             4548.7              6810.3              6840.4\n",
      "P-value (F-stat)                        0.0000              0.0000              0.0000\n",
      "========================     =================   =================   =================\n",
      "obstruction                            -2.5232             -3.7561             -3.7561\n",
      "                                     (-4.7826)           (-3.6027)           (-3.7366)\n",
      "protection                              1.9164              3.5071              3.5071\n",
      "                                      (2.2231)            (2.2576)            (2.2488)\n",
      "g_0                                    -4.7551             -3.6635             -3.6635\n",
      "                                     (-1.5115)           (-1.0100)           (-1.0052)\n",
      "g_1                                     2.8506              3.3208              3.3208\n",
      "                                      (1.2629)            (1.3151)            (1.2800)\n",
      "g_2                                     1.4346              1.2937              1.2937\n",
      "                                      (0.5452)            (0.4665)            (0.4541)\n",
      "g_3                                    -4.1706             -4.2446             -4.2446\n",
      "                                     (-1.6858)           (-1.6111)           (-1.5410)\n",
      "g_4                                     5.5301              6.0456              6.0456\n",
      "                                      (4.1286)            (3.9542)            (3.8668)\n",
      "g_5                                     3.5961              4.0133              4.0133\n",
      "                                      (1.6418)            (1.6796)            (1.6085)\n",
      "g_6                                    -9.2494             -8.9918             -8.9918\n",
      "                                     (-2.7456)           (-2.4952)           (-2.3478)\n",
      "g_7                                    -1.3470             -0.9672             -0.9672\n",
      "                                     (-0.5608)           (-0.3650)           (-0.3525)\n",
      "g_8                                     2.7303              2.5446              2.5446\n",
      "                                      (1.0483)            (0.7346)            (0.7207)\n",
      "g_9                                    -1.5177             -0.5284             -0.5284\n",
      "                                     (-0.4659)           (-0.1336)           (-0.1305)\n",
      "g_10                                   -0.7942             -0.9762             -0.9762\n",
      "                                     (-0.3244)           (-0.3468)           (-0.3355)\n",
      "checkpoint_1                            0.0085              0.0783              0.0783\n",
      "                                      (0.0437)            (0.4040)            (0.4097)\n",
      "checkpoint_2                           -0.1206             -0.1347             -0.1347\n",
      "                                     (-1.6148)           (-1.8059)           (-1.7891)\n",
      "checkpoint_3                           -0.1137             -0.1409             -0.1409\n",
      "                                     (-1.2818)           (-1.5012)           (-1.4751)\n",
      "checkpoint_4                           -0.1864             -0.1917             -0.1917\n",
      "                                     (-2.9029)           (-2.8753)           (-2.8772)\n",
      "checkpoint_5                           -0.0479             -0.0718             -0.0718\n",
      "                                     (-0.7324)           (-1.1078)           (-1.0863)\n",
      "checkpoint_6                            0.0954              0.0760              0.0760\n",
      "                                      (1.4822)            (1.1061)            (1.1229)\n",
      "checkpoint_7                           -0.0454             -0.0575             -0.0575\n",
      "                                     (-0.7623)           (-0.9423)           (-0.9343)\n",
      "checkpoint_8                           -0.0049              0.0029              0.0029\n",
      "                                     (-0.0903)            (0.0522)            (0.0519)\n",
      "checkpoint_9                           -0.0270             -0.0302             -0.0302\n",
      "                                     (-0.4828)           (-0.5487)           (-0.5442)\n",
      "checkpoint_10                           0.0439              0.0351              0.0351\n",
      "                                      (0.6936)            (0.5509)            (0.5562)\n",
      "partialcheckpoint_1                     0.2005              0.3381              0.3381\n",
      "                                      (0.4726)            (0.7463)            (0.7410)\n",
      "partialcheckpoint_2                     0.2851              0.3131              0.3131\n",
      "                                      (1.6620)            (1.8548)            (1.8928)\n",
      "partialcheckpoint_3                    -0.4344             -0.4295             -0.4295\n",
      "                                     (-1.9631)           (-1.8294)           (-1.8251)\n",
      "partialcheckpoint_4                     0.0878              0.1233              0.1233\n",
      "                                      (0.8128)            (1.0817)            (1.0491)\n",
      "partialcheckpoint_5                    -0.0370             -0.0348             -0.0348\n",
      "                                     (-0.3706)           (-0.3333)           (-0.3255)\n",
      "partialcheckpoint_6                    -0.1937             -0.1667             -0.1667\n",
      "                                     (-2.2981)           (-1.7721)           (-1.7467)\n",
      "partialcheckpoint_7                     0.0198              0.0458              0.0458\n",
      "                                      (0.2317)            (0.5048)            (0.5001)\n",
      "partialcheckpoint_8                    -0.0497             -0.0626             -0.0626\n",
      "                                     (-0.5951)           (-0.7466)           (-0.7488)\n",
      "partialcheckpoint_9                    -0.1410             -0.1268             -0.1268\n",
      "                                     (-1.5036)           (-1.3540)           (-1.3282)\n",
      "partialcheckpoint_10                   -0.1461             -0.1303             -0.1303\n",
      "                                     (-1.4361)           (-1.2562)           (-1.2514)\n",
      "roadgate_1                             -0.7642             -0.8381             -0.8381\n",
      "                                     (-2.8170)           (-2.9268)           (-2.9212)\n",
      "roadgate_2                           8.179e-05              0.0040              0.0040\n",
      "                                      (0.0007)            (0.0329)            (0.0332)\n",
      "roadgate_3                              0.0944              0.1125              0.1125\n",
      "                                      (1.0121)            (1.0859)            (1.0972)\n",
      "roadgate_4                              0.1035              0.0858              0.0858\n",
      "                                      (1.4663)            (1.1629)            (1.1756)\n",
      "roadgate_5                              0.0417              0.0458              0.0458\n",
      "                                      (0.5704)            (0.6065)            (0.6022)\n",
      "roadgate_6                             -0.0184              0.0099              0.0099\n",
      "                                     (-0.2112)            (0.1126)            (0.1110)\n",
      "roadgate_7                             -0.0381             -0.0418             -0.0418\n",
      "                                     (-0.4740)           (-0.4798)           (-0.4818)\n",
      "roadgate_8                             -0.1370             -0.1376             -0.1376\n",
      "                                     (-1.7875)           (-1.6155)           (-1.6397)\n",
      "roadgate_9                              0.0519              0.0680              0.0680\n",
      "                                      (0.7453)            (0.9573)            (0.9383)\n",
      "roadgate_10                             0.1435              0.1584              0.1584\n",
      "                                      (2.9770)            (3.2145)            (3.2200)\n",
      "greenlinecheckpoint_1                   3.2859              6.6616              6.6616\n",
      "                                      (1.1343)            (1.7839)            (1.7473)\n",
      "greenlinecheckpoint_2                   5.5139              5.7360              5.7360\n",
      "                                      (3.1960)            (3.1937)            (3.1435)\n",
      "greenlinecheckpoint_3                   4.9194              4.7959              4.7959\n",
      "                                      (2.5800)            (2.4433)            (2.4793)\n",
      "greenlinecheckpoint_4                   4.7312              5.5722              5.5722\n",
      "                                      (3.1142)            (3.2479)            (3.2584)\n",
      "greenlinecheckpoint_5                   0.2197              0.4949              0.4949\n",
      "                                      (0.1781)            (0.4091)            (0.4147)\n",
      "greenlinecheckpoint_6                  -1.4588             -1.2724             -1.2724\n",
      "                                     (-1.0042)           (-0.8598)           (-0.8458)\n",
      "greenlinecheckpoint_7                   1.1519              1.6218              1.6218\n",
      "                                      (0.6909)            (0.9340)            (0.9354)\n",
      "greenlinecheckpoint_8                   0.7138              1.3073              1.3073\n",
      "                                      (0.4246)            (0.7832)            (0.7735)\n",
      "greenlinecheckpoint_9                   2.0043              2.4579              2.4579\n",
      "                                      (1.2615)            (1.5601)            (1.5508)\n",
      "greenlinecheckpoint_10                  1.1698              1.4982              1.4982\n",
      "                                      (0.9204)            (1.1467)            (1.1451)\n",
      "earthmound_1                           -0.0006             -0.0035             -0.0035\n",
      "                                     (-0.0082)           (-0.0462)           (-0.0462)\n",
      "earthmound_2                            0.1179              0.1011              0.1011\n",
      "                                      (2.2424)            (1.7228)            (1.7517)\n",
      "earthmound_3                           -0.0145             -0.0193             -0.0193\n",
      "                                     (-0.4946)           (-0.6497)           (-0.6463)\n",
      "earthmound_4                           -0.0045             -0.0088             -0.0088\n",
      "                                     (-0.1628)           (-0.3075)           (-0.3022)\n",
      "earthmound_5                            0.0175              0.0023              0.0023\n",
      "                                      (0.6804)            (0.0789)            (0.0783)\n",
      "earthmound_6                            0.0826              0.0728              0.0728\n",
      "                                      (3.2219)            (2.7169)            (2.6891)\n",
      "earthmound_7                            0.0324              0.0277              0.0277\n",
      "                                      (1.5822)            (1.2250)            (1.2615)\n",
      "earthmound_8                            0.0330              0.0279              0.0279\n",
      "                                      (1.6192)            (1.3139)            (1.3278)\n",
      "earthmound_9                            0.0257              0.0208              0.0208\n",
      "                                      (1.3670)            (1.0758)            (1.1407)\n",
      "earthmound_10                          -0.0207             -0.0276             -0.0276\n",
      "                                     (-1.0440)           (-1.2661)           (-1.2323)\n",
      "settle_in_1000km                        0.5305              0.6712              0.6712\n",
      "                                      (0.1298)            (0.1667)            (0.1640)\n",
      "settle_in_2000km                        0.8699              1.1074              1.1074\n",
      "                                      (0.4257)            (0.5059)            (0.4806)\n",
      "settle_in_3000km                        1.8562              2.1014              2.1014\n",
      "                                      (0.8758)            (0.9272)            (0.8740)\n",
      "settle_in_4000km                        0.8160              1.2921              1.2921\n",
      "                                      (0.3946)            (0.5747)            (0.5464)\n",
      "settle_in_5000km                        0.7601              0.9895              0.9895\n",
      "                                      (0.3440)            (0.4110)            (0.3947)\n",
      "settle_in_6000km                       -0.0824              0.1843              0.1843\n",
      "                                     (-0.0388)            (0.0809)            (0.0770)\n",
      "settle_in_7000km                        1.1168              1.0384              1.0384\n",
      "                                      (0.5153)            (0.4495)            (0.4276)\n",
      "settle_in_8000km                        2.7693              2.5306              2.5306\n",
      "                                      (0.9776)            (0.8532)            (0.8294)\n",
      "settle_in_9000km                        0.1321              0.6155              0.6155\n",
      "                                      (0.0462)            (0.2202)            (0.2125)\n",
      "settle_in_10000km                       5.9657              5.7275              5.7275\n",
      "                                      (1.1990)            (1.1462)            (1.1705)\n",
      "========================== =================== =================== ===================\n",
      "Instruments                                         iv_obstruction      iv_obstruction\n",
      "                                                     iv_protection       iv_protection\n",
      "--------------------------------------------------------------------------------------\n",
      "\n",
      "T-stats reported in parentheses\n"
     ]
    }
   ],
   "source": [
    "res = OrderedDict()\n",
    "res['OLS'] = result_ols\n",
    "res['2SLS'] = result_twosls\n",
    "res['clustered_2SLS'] = result_twosls_cluster\n",
    "print(compare(res))"
   ]
  },
  {
   "cell_type": "code",
   "execution_count": null,
   "metadata": {},
   "outputs": [],
   "source": []
  }
 ],
 "metadata": {
  "kernelspec": {
   "display_name": "Python 3",
   "language": "python",
   "name": "python3"
  },
  "language_info": {
   "codemirror_mode": {
    "name": "ipython",
    "version": 3
   },
   "file_extension": ".py",
   "mimetype": "text/x-python",
   "name": "python",
   "nbconvert_exporter": "python",
   "pygments_lexer": "ipython3",
   "version": "3.8.6"
  }
 },
 "nbformat": 4,
 "nbformat_minor": 2
}
